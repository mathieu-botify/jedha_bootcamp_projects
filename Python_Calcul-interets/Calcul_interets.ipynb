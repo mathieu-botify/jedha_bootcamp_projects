{
 "cells": [
  {
   "cell_type": "code",
   "execution_count": 4,
   "metadata": {},
   "outputs": [],
   "source": [
    "def interet():\n",
    "    try:\n",
    "        total = 0\n",
    "\n",
    "        somme = float(input(\"Donnez-nous la somme totale que vous souhaitez placer\\n\"))\n",
    "        \n",
    "        if somme < 0:\n",
    "            raise ValueError(\"Vous ne pouvez pas investir un nombre négatif d'argent\")\n",
    "        elif somme == 0:\n",
    "            raise ValueError(\"Vous n'avez pas investi d'argent !\")\n",
    "\n",
    "        nb_annees = int(input(\"combien d'années allez-vous placer cet argent ?\\n\"))\n",
    "\n",
    "        if nb_annees < 0:\n",
    "            raise ValueError(\"Les années ne peuvent pas prendre une valeur négative\")\n",
    "        elif nb_annees == 0:\n",
    "            raise ValueError(\"Vous allez bien attendre au moins un an, non ?\")\n",
    "\n",
    "        interet = input(\"A quel taux souhaitez vous voir les intérêts ?\\n ATTENTION : Vous devrez mettre une valeur décimale \\n Ex: 10% --> 0.10\\n\")\n",
    "\n",
    "        if \"%\" in interet:\n",
    "            raise ValueError(\"Merci de mettre une valeur décimale uniquement, pas de signe de pourcentage \\nEx 10% ---> 0.10\")\n",
    "\n",
    "        else:\n",
    "            interet = float(interet)\n",
    "            \n",
    "        if interet < 0:\n",
    "            raise ValueError(\"Vous ne pouvez pas avoir un taux d'intérêt négatif\")\n",
    "        elif interet == 0:\n",
    "            raise ValueError(\"Vous devriez avoir un taux d'intérêt\")\n",
    "\n",
    "        total = somme*(1+interet)**(nb_annees)\n",
    "\n",
    "    except ValueError as erreur:\n",
    "        print(\"La valeur insérée n'est pas valide \\n\")\n",
    "        print(erreur)\n",
    "\n",
    "    else:\n",
    "        print(\"La somme totale dont vous disposerez après avoir déposé {} au bout de {} ans sera de {:.2f}\".format(somme,nb_annees, total))"
   ]
  },
  {
   "cell_type": "code",
   "execution_count": 5,
   "metadata": {},
   "outputs": [
    {
     "name": "stdout",
     "output_type": "stream",
     "text": [
      "Donnez-nous la somme totale que vous souhaitez placer\n",
      "10000\n",
      "combien d'années allez-vous placer cet argent ?\n",
      "5\n",
      "A quel taux souhaitez vous voir les intérêts ?\n",
      " ATTENTION : Vous devrez mettre une valeur décimale \n",
      " Ex: 10% --> 0.10\n",
      "0.1\n",
      "La somme totale dont vous disposerez après avoir déposé 10000.0 au bout de 5 ans sera de 16105.10\n"
     ]
    }
   ],
   "source": [
    "interet()"
   ]
  },
  {
   "cell_type": "code",
   "execution_count": null,
   "metadata": {},
   "outputs": [],
   "source": []
  }
 ],
 "metadata": {
  "kernelspec": {
   "display_name": "Python 3",
   "language": "python",
   "name": "python3"
  },
  "language_info": {
   "codemirror_mode": {
    "name": "ipython",
    "version": 3
   },
   "file_extension": ".py",
   "mimetype": "text/x-python",
   "name": "python",
   "nbconvert_exporter": "python",
   "pygments_lexer": "ipython3",
   "version": "3.6.5"
  }
 },
 "nbformat": 4,
 "nbformat_minor": 2
}
