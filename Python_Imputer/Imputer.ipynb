{
 "cells": [
  {
   "cell_type": "code",
   "execution_count": 8,
   "metadata": {},
   "outputs": [],
   "source": [
    "# Fonction imputer\n",
    "\n",
    "class Imputer:\n",
    "\n",
    "    def __init__(self, liste):\n",
    "        self.liste = liste\n",
    "\n",
    "    #Calcul de la moyenne\n",
    "    \n",
    "    def avg(self):\n",
    "        sum = 0\n",
    "        n = 0\n",
    "\n",
    "        for i in range(len(self.liste)):\n",
    "            if self.liste[i] != None:\n",
    "                sum += self.liste[i]\n",
    "                n += 1\n",
    "\n",
    "        moyenne = round((sum / n),2)\n",
    "        \n",
    "        for i in range(len(self.liste)):\n",
    "            if self.liste[i] == None:\n",
    "                self.liste[i] = moyenne\n",
    "        return self.liste\n",
    "\n",
    "    \n",
    "    def med(self):\n",
    "    #Ajout médiane à la place des données \"None\" \n",
    "\n",
    "        n = 0\n",
    "        liste_temp = []\n",
    "        liste_croissante = []\n",
    "\n",
    "        #création liste temporaire avec uniquement les data ok\n",
    "\n",
    "        for i in range(len(self.liste)):\n",
    "            if liste[i] != None:\n",
    "                liste_temp.append(self.liste[i])\n",
    "                n += 1\n",
    "\n",
    "        #création d'une liste croissante\n",
    "        liste_croissante = sorted(liste_temp)\n",
    "\n",
    "        #cacul de la médiane\n",
    "        if n % 2 != 0:\n",
    "            mid = int(((n+1)/2) - 1)\n",
    "            mediane = liste_croissante[mid]\n",
    "        else:\n",
    "            mid = int((n/2) - 1)\n",
    "            mediane = ((liste_croissante[mid] + liste_croissante[mid + 1]) / 2)\n",
    "\n",
    "        #insertion de la médiane à la place des None\n",
    "\n",
    "        for i in range(len(self.liste)):\n",
    "            if self.liste[i] == None:\n",
    "                self.liste[i] = mediane"
   ]
  },
  {
   "cell_type": "code",
   "execution_count": 9,
   "metadata": {},
   "outputs": [
    {
     "name": "stdout",
     "output_type": "stream",
     "text": [
      "[1, 4, 8.15, 18, 3, 9, 2, 5, 8.15, 6, 8.15, 3, 4, 5, 25, 21]\n"
     ]
    }
   ],
   "source": [
    "liste = [1, 4, None, 18, 3, 9, 2, 5, None, 6, None, 3, 4, 5, 25, 21]\n",
    "Imputer(liste).avg()\n",
    "print(liste)"
   ]
  },
  {
   "cell_type": "code",
   "execution_count": 6,
   "metadata": {},
   "outputs": [
    {
     "name": "stdout",
     "output_type": "stream",
     "text": [
      "[1, 4, 5, 18, 3, 9, 2, 5, 5, 6, 5, 3, 4, 5, 25, 21]\n"
     ]
    }
   ],
   "source": [
    "liste = [1, 4, None, 18, 3, 9, 2, 5, None, 6, None, 3, 4, 5, 25, 21]\n",
    "Imputer(liste).med()\n",
    "print(liste)"
   ]
  },
  {
   "cell_type": "code",
   "execution_count": null,
   "metadata": {},
   "outputs": [],
   "source": []
  }
 ],
 "metadata": {
  "kernelspec": {
   "display_name": "Python 3",
   "language": "python",
   "name": "python3"
  },
  "language_info": {
   "codemirror_mode": {
    "name": "ipython",
    "version": 3
   },
   "file_extension": ".py",
   "mimetype": "text/x-python",
   "name": "python",
   "nbconvert_exporter": "python",
   "pygments_lexer": "ipython3",
   "version": "3.6.5"
  }
 },
 "nbformat": 4,
 "nbformat_minor": 2
}
