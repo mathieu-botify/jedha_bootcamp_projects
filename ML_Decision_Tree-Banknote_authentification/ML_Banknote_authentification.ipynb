{
 "cells": [
  {
   "cell_type": "code",
   "execution_count": null,
   "metadata": {},
   "outputs": [],
   "source": [
    "\"\"\" Objectif :\n",
    "Evaluer les performances d'un arbre de décision sur un jeu de données contenant\n",
    "des billets de banque que l'on souhaite classer comme authentiques ou faux.\n",
    "Les données sont téléchargeables ici : http://archive.ics.uci.edu/ml/datasets/banknote+authentication \n",
    "\"\"\""
   ]
  },
  {
   "cell_type": "code",
   "execution_count": 7,
   "metadata": {},
   "outputs": [],
   "source": [
    "# Import librairies\n",
    "import pandas as pd\n",
    "import sklearn\n",
    "\n",
    "# Import des datasets\n",
    "filename = 'data_banknote_authentication.csv'\n",
    "dataset = pd.read_csv(filename, header=None, sep=\";\")\n",
    "X = dataset.iloc[:,:-1]\n",
    "y = dataset.iloc[:,-1]"
   ]
  },
  {
   "cell_type": "code",
   "execution_count": 15,
   "metadata": {},
   "outputs": [
    {
     "data": {
      "text/plain": [
       "0.9927272727272727"
      ]
     },
     "execution_count": 15,
     "metadata": {},
     "output_type": "execute_result"
    }
   ],
   "source": [
    "# Création de datasets de train et test \n",
    "from sklearn.model_selection import train_test_split\n",
    "x_train, x_test, y_train, y_test = train_test_split(X, y, test_size=0.2, random_state = 0)\n",
    "\n",
    "# Entrainement du modèle de decision tree Classifier\n",
    "from sklearn.tree import DecisionTreeClassifier\n",
    "tree = sklearn.tree.DecisionTreeClassifier()\n",
    "tree_fit = tree.fit(x_train, y_train)\n",
    "\n",
    "# Score sur l'échantillon de test\n",
    "tree_fit.score(x_test, y_test)"
   ]
  },
  {
   "cell_type": "code",
   "execution_count": 11,
   "metadata": {},
   "outputs": [
    {
     "data": {
      "text/plain": [
       "0.9927272727272727"
      ]
     },
     "execution_count": 11,
     "metadata": {},
     "output_type": "execute_result"
    }
   ],
   "source": [
    "# calcul \"manuel\" de la précision de notre modèle\n",
    "predictions = tree_fit.predict(x_test)\n",
    "precision = sum(predictions == y_test) / len(predictions)\n",
    "precision"
   ]
  },
  {
   "cell_type": "code",
   "execution_count": 14,
   "metadata": {},
   "outputs": [
    {
     "name": "stdout",
     "output_type": "stream",
     "text": [
      "     0    1\n",
      "0  155    2\n",
      "1    0  118\n"
     ]
    }
   ],
   "source": [
    "# Confusion matrix\n",
    "import sklearn.metrics\n",
    "confusion_matrix = sklearn.metrics.confusion_matrix(y_test, predictions)\n",
    "print(pd.DataFrame(confusion_matrix))"
   ]
  },
  {
   "cell_type": "code",
   "execution_count": 12,
   "metadata": {},
   "outputs": [
    {
     "data": {
      "text/plain": [
       "0.44849589790337285"
      ]
     },
     "execution_count": 12,
     "metadata": {},
     "output_type": "execute_result"
    }
   ],
   "source": [
    "# calcul du nombre du preditions sont à 1 afin de voir leur proportion dans l'échantillon\n",
    "sum(y_train == 1) / len(y_train)"
   ]
  }
 ],
 "metadata": {
  "kernelspec": {
   "display_name": "Python 3",
   "language": "python",
   "name": "python3"
  },
  "language_info": {
   "codemirror_mode": {
    "name": "ipython",
    "version": 3
   },
   "file_extension": ".py",
   "mimetype": "text/x-python",
   "name": "python",
   "nbconvert_exporter": "python",
   "pygments_lexer": "ipython3",
   "version": "3.6.5"
  }
 },
 "nbformat": 4,
 "nbformat_minor": 2
}
